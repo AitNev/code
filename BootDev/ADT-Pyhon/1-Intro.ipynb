{
 "cells": [
  {
   "metadata": {},
   "cell_type": "markdown",
   "source": "## Welcome to Data Structures",
   "id": "ba22690525057f05"
  },
  {
   "metadata": {
    "ExecuteTime": {
     "end_time": "2025-01-02T22:34:28.507606Z",
     "start_time": "2025-01-02T22:34:28.498579Z"
    }
   },
   "cell_type": "code",
   "source": [
    "def count_marketers(job_titles):\n",
    "    acc = 0\n",
    "    for t in job_titles:\n",
    "        if t == 'marketer': acc += 1\n",
    "    return acc"
   ],
   "id": "34db7689295d5b87",
   "outputs": [],
   "execution_count": 1
  },
  {
   "metadata": {
    "ExecuteTime": {
     "end_time": "2025-01-02T22:34:30.706455Z",
     "start_time": "2025-01-02T22:34:30.698939Z"
    }
   },
   "cell_type": "code",
   "source": [
    "run_cases = [\n",
    "    ([\"developer\", \"marketer\", \"designer\"], 1),\n",
    "    ([\"marketer\", \"marketer\", \"developer\", \"marketer\"], 3),\n",
    "]\n",
    "\n",
    "submit_cases = run_cases + [\n",
    "    ([], 0),\n",
    "    ([\"developer\", \"designer\", \"product manager\"], 0),\n",
    "    ([\"marketer\"], 1),\n",
    "    ([\"MARKETER\", \"Marketer\", \"marketer\"], 1),\n",
    "]\n",
    "\n",
    "\n",
    "def test(input1, expected_output):\n",
    "    print(\"---------------------------------\")\n",
    "    print(f\"Input job titles: {input1}\")\n",
    "    print(f\"Expecting: {expected_output}\")\n",
    "    result = count_marketers(input1)\n",
    "    print(f\"Actual: {result}\")\n",
    "    if result == expected_output:\n",
    "        print(\"Pass\")\n",
    "        return True\n",
    "    print(\"Fail\")\n",
    "    return False\n",
    "\n",
    "\n",
    "def main():\n",
    "    passed = 0\n",
    "    failed = 0\n",
    "    for test_case in test_cases:\n",
    "        correct = test(*test_case)\n",
    "        if correct:\n",
    "            passed += 1\n",
    "        else:\n",
    "            failed += 1\n",
    "    if failed == 0:\n",
    "        print(\"============= PASS ==============\")\n",
    "    else:\n",
    "        print(\"============= FAIL ==============\")\n",
    "    print(f\"{passed} passed, {failed} failed\")\n",
    "\n",
    "\n",
    "test_cases = submit_cases\n",
    "if \"__RUN__\" in globals():\n",
    "    test_cases = run_cases\n",
    "\n",
    "main()"
   ],
   "id": "5114a204e690d3da",
   "outputs": [
    {
     "name": "stdout",
     "output_type": "stream",
     "text": [
      "---------------------------------\n",
      "Input job titles: ['developer', 'marketer', 'designer']\n",
      "Expecting: 1\n",
      "Actual: 1\n",
      "Pass\n",
      "---------------------------------\n",
      "Input job titles: ['marketer', 'marketer', 'developer', 'marketer']\n",
      "Expecting: 3\n",
      "Actual: 3\n",
      "Pass\n",
      "---------------------------------\n",
      "Input job titles: []\n",
      "Expecting: 0\n",
      "Actual: 0\n",
      "Pass\n",
      "---------------------------------\n",
      "Input job titles: ['developer', 'designer', 'product manager']\n",
      "Expecting: 0\n",
      "Actual: 0\n",
      "Pass\n",
      "---------------------------------\n",
      "Input job titles: ['marketer']\n",
      "Expecting: 1\n",
      "Actual: 1\n",
      "Pass\n",
      "---------------------------------\n",
      "Input job titles: ['MARKETER', 'Marketer', 'marketer']\n",
      "Expecting: 1\n",
      "Actual: 1\n",
      "Pass\n",
      "============= PASS ==============\n",
      "6 passed, 0 failed\n"
     ]
    }
   ],
   "execution_count": 2
  },
  {
   "metadata": {},
   "cell_type": "markdown",
   "source": "## Lists",
   "id": "d4506838aa2d8b61"
  },
  {
   "metadata": {},
   "cell_type": "markdown",
   "source": [
    "    Write:  O(1)\n",
    "    Read:   O(1)\n",
    "    Delete: O(n)\n",
    "    Search: O(n)"
   ],
   "id": "f3d26e306254a2a3"
  },
  {
   "metadata": {
    "ExecuteTime": {
     "end_time": "2025-01-02T22:38:32.657760Z",
     "start_time": "2025-01-02T22:38:32.648235Z"
    }
   },
   "cell_type": "code",
   "source": [
    "def last_work_experience(work_experiences):\n",
    "    if not work_experiences: return None\n",
    "    return work_experiences[len(work_experiences)-1]"
   ],
   "id": "319d2c4e5eca8036",
   "outputs": [],
   "execution_count": 3
  },
  {
   "metadata": {
    "ExecuteTime": {
     "end_time": "2025-01-02T22:38:41.976882Z",
     "start_time": "2025-01-02T22:38:41.968334Z"
    }
   },
   "cell_type": "code",
   "source": [
    "run_cases = [\n",
    "    ([\"Software Engineer\", \"Data Analyst\", \"Project Manager\"], \"Project Manager\"),\n",
    "    ([\"Intern\", \"Junior Developer\"], \"Junior Developer\"),\n",
    "]\n",
    "\n",
    "submit_cases = run_cases + [\n",
    "    ([], None),\n",
    "    ([\"CEO\"], \"CEO\"),\n",
    "    ([\"Cashier\", \"Supervisor\", \"Manager\", \"Director\"], \"Director\"),\n",
    "]\n",
    "\n",
    "\n",
    "def test(input1, expected_output):\n",
    "    print(\"---------------------------------\")\n",
    "    print(f\"Input work experiences: {input1}\")\n",
    "    print(f\"Expected output: {expected_output}\")\n",
    "    result = last_work_experience(input1)\n",
    "    print(f\"Actual output: {result}\")\n",
    "    if result == expected_output:\n",
    "        print(\"Pass\")\n",
    "        return True\n",
    "    print(\"Fail\")\n",
    "    return False\n",
    "\n",
    "\n",
    "def main():\n",
    "    passed = 0\n",
    "    failed = 0\n",
    "    for test_case in test_cases:\n",
    "        correct = test(*test_case)\n",
    "        if correct:\n",
    "            passed += 1\n",
    "        else:\n",
    "            failed += 1\n",
    "    if failed == 0:\n",
    "        print(\"============= PASS ==============\")\n",
    "    else:\n",
    "        print(\"============= FAIL ==============\")\n",
    "    print(f\"{passed} passed, {failed} failed\")\n",
    "\n",
    "\n",
    "test_cases = submit_cases\n",
    "if \"__RUN__\" in globals():\n",
    "    test_cases = run_cases\n",
    "\n",
    "main()"
   ],
   "id": "f643a327eed995cf",
   "outputs": [
    {
     "name": "stdout",
     "output_type": "stream",
     "text": [
      "---------------------------------\n",
      "Input work experiences: ['Software Engineer', 'Data Analyst', 'Project Manager']\n",
      "Expected output: Project Manager\n",
      "Actual output: Project Manager\n",
      "Pass\n",
      "---------------------------------\n",
      "Input work experiences: ['Intern', 'Junior Developer']\n",
      "Expected output: Junior Developer\n",
      "Actual output: Junior Developer\n",
      "Pass\n",
      "---------------------------------\n",
      "Input work experiences: []\n",
      "Expected output: None\n",
      "Actual output: None\n",
      "Pass\n",
      "---------------------------------\n",
      "Input work experiences: ['CEO']\n",
      "Expected output: CEO\n",
      "Actual output: CEO\n",
      "Pass\n",
      "---------------------------------\n",
      "Input work experiences: ['Cashier', 'Supervisor', 'Manager', 'Director']\n",
      "Expected output: Director\n",
      "Actual output: Director\n",
      "Pass\n",
      "============= PASS ==============\n",
      "5 passed, 0 failed\n"
     ]
    }
   ],
   "execution_count": 4
  },
  {
   "metadata": {},
   "cell_type": "code",
   "outputs": [],
   "execution_count": null,
   "source": "",
   "id": "b76c4bfcf21a2002"
  }
 ],
 "metadata": {
  "kernelspec": {
   "display_name": "Python 3",
   "language": "python",
   "name": "python3"
  },
  "language_info": {
   "codemirror_mode": {
    "name": "ipython",
    "version": 2
   },
   "file_extension": ".py",
   "mimetype": "text/x-python",
   "name": "python",
   "nbconvert_exporter": "python",
   "pygments_lexer": "ipython2",
   "version": "2.7.6"
  }
 },
 "nbformat": 4,
 "nbformat_minor": 5
}
