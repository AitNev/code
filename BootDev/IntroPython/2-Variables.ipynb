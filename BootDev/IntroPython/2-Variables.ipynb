{
 "cells": [
  {
   "metadata": {},
   "cell_type": "markdown",
   "source": "## Variables",
   "id": "b826e42a74939e9f"
  },
  {
   "metadata": {
    "ExecuteTime": {
     "end_time": "2024-12-30T09:46:23.303221Z",
     "start_time": "2024-12-30T09:46:23.287578Z"
    }
   },
   "cell_type": "code",
   "source": [
    "player_health = 1000\n",
    "# don't touch below this line\n",
    "\n",
    "print(player_health)"
   ],
   "id": "11f70ffd1b94b01",
   "outputs": [
    {
     "name": "stdout",
     "output_type": "stream",
     "text": [
      "1000\n"
     ]
    }
   ],
   "execution_count": 1
  },
  {
   "metadata": {},
   "cell_type": "markdown",
   "source": "## Variables Vary",
   "id": "5ad3423e100af9e9"
  },
  {
   "metadata": {
    "ExecuteTime": {
     "end_time": "2024-12-30T09:47:38.426201Z",
     "start_time": "2024-12-30T09:47:38.410592Z"
    }
   },
   "cell_type": "code",
   "source": [
    "player_health = 1000\n",
    "\n",
    "# reduce by 100 here\n",
    "player_health -= 100\n",
    "print(player_health)\n",
    "\n",
    "# and here\n",
    "player_health -= 100\n",
    "print(player_health)\n",
    "\n",
    "# and here\n",
    "player_health -= 100\n",
    "print(player_health)\n",
    "\n",
    "# and here\n",
    "player_health -= 100\n",
    "print(player_health)"
   ],
   "id": "ae2c6c5a546ff888",
   "outputs": [
    {
     "name": "stdout",
     "output_type": "stream",
     "text": [
      "900\n",
      "800\n",
      "700\n",
      "600\n"
     ]
    }
   ],
   "execution_count": 2
  },
  {
   "metadata": {},
   "cell_type": "markdown",
   "source": "## Storing Results",
   "id": "e02723cd931af29e"
  },
  {
   "metadata": {
    "ExecuteTime": {
     "end_time": "2024-12-30T09:48:56.843526Z",
     "start_time": "2024-12-30T09:48:56.827890Z"
    }
   },
   "cell_type": "code",
   "source": [
    "player_health = 1000\n",
    "armor_multiplier = 2\n",
    "armored_health = player_health * armor_multiplier\n",
    "# create armored_health here\n",
    "print(armored_health)"
   ],
   "id": "49b90849691b6373",
   "outputs": [
    {
     "name": "stdout",
     "output_type": "stream",
     "text": [
      "2000\n"
     ]
    }
   ],
   "execution_count": 3
  },
  {
   "metadata": {},
   "cell_type": "markdown",
   "source": "## Negative Numbers",
   "id": "fe3f214a596556a"
  },
  {
   "metadata": {
    "ExecuteTime": {
     "end_time": "2024-12-30T09:49:59.066435Z",
     "start_time": "2024-12-30T09:49:59.050804Z"
    }
   },
   "cell_type": "code",
   "source": [
    "player_health = 100\n",
    "poison_damage = -10\n",
    "\n",
    "# don't touch below this line\n",
    "\n",
    "player_poison_health = player_health + poison_damage\n",
    "\n",
    "print(player_poison_health)"
   ],
   "id": "b408abe7c62cbe6b",
   "outputs": [
    {
     "name": "stdout",
     "output_type": "stream",
     "text": [
      "90\n"
     ]
    }
   ],
   "execution_count": 4
  },
  {
   "metadata": {},
   "cell_type": "markdown",
   "source": "## Comments",
   "id": "62e2cb92d870ac06"
  },
  {
   "metadata": {
    "ExecuteTime": {
     "end_time": "2024-12-30T09:50:45.774159Z",
     "start_time": "2024-12-30T09:50:45.756513Z"
    }
   },
   "cell_type": "code",
   "source": [
    "# the best_sword variable holds the value of the best sword in the game\n",
    "best_sword = \"scimitar\"\n",
    "print(best_sword)"
   ],
   "id": "ed67c102892191f5",
   "outputs": [
    {
     "name": "stdout",
     "output_type": "stream",
     "text": [
      "scimitar\n"
     ]
    }
   ],
   "execution_count": 5
  },
  {
   "metadata": {},
   "cell_type": "markdown",
   "source": "## Variable Names",
   "id": "ac2b329e55327e49"
  },
  {
   "metadata": {},
   "cell_type": "markdown",
   "source": [
    "Name \t        Code \t            Language(s) that recommend it'\n",
    "Snake Case \t    my_hero_health \t    Python, Ruby, Rust\n",
    "Camel Case \t    myHeroHealth \t    JavaScript, Java\n",
    "Pascal Case \tMyHeroHealth \t    C#, C++\n",
    "No Casing \t    myherohealth \t    No one: don't do this"
   ],
   "id": "fa8101dd0c0426be"
  },
  {
   "metadata": {},
   "cell_type": "markdown",
   "source": "## Basic Variable Types",
   "id": "e49dade8a2ff7825"
  },
  {
   "metadata": {
    "ExecuteTime": {
     "end_time": "2024-12-30T09:54:03.696510Z",
     "start_time": "2024-12-30T09:54:03.676895Z"
    }
   },
   "cell_type": "code",
   "source": [
    "player_health = 100\n",
    "\n",
    "player_has_magic = True\n",
    "\n",
    "# don't touch below this line\n",
    "print(f\"player_health is a/an {type(player_health).__name__}\")\n",
    "print(f\"player_has_magic is a/an {type(player_has_magic).__name__}\")"
   ],
   "id": "c6f2072a3542d377",
   "outputs": [
    {
     "name": "stdout",
     "output_type": "stream",
     "text": [
      "player_health is a/an int\n",
      "player_has_magic is a/an bool\n"
     ]
    }
   ],
   "execution_count": 6
  },
  {
   "metadata": {},
   "cell_type": "markdown",
   "source": "## F-strings in Python",
   "id": "9d9ba96f3b751ebd"
  },
  {
   "metadata": {
    "ExecuteTime": {
     "end_time": "2024-12-30T09:56:00.026917Z",
     "start_time": "2024-12-30T09:56:00.011282Z"
    }
   },
   "cell_type": "code",
   "source": [
    "name = \"Yarl\"\n",
    "age = 37\n",
    "race = \"dwarf\"\n",
    "\n",
    "# Don't edit above this line\n",
    "f_string = f\"{name} is a {race} who is {age} years old.\"\n",
    "print(f_string)"
   ],
   "id": "da4c50ccb5cb9405",
   "outputs": [
    {
     "name": "stdout",
     "output_type": "stream",
     "text": [
      "Yarl is a dwarf who is 37 years old.\n"
     ]
    }
   ],
   "execution_count": 7
  },
  {
   "metadata": {},
   "cell_type": "markdown",
   "source": "## None Type Variables",
   "id": "3b87be3d05f88014"
  },
  {
   "metadata": {
    "ExecuteTime": {
     "end_time": "2024-12-30T09:56:53.359519Z",
     "start_time": "2024-12-30T09:56:53.343877Z"
    }
   },
   "cell_type": "code",
   "source": [
    "# create the empty \"enemy\" variable here\n",
    "enemy = None\n",
    "\n",
    "# don't touch below this line\n",
    "print(enemy is None)"
   ],
   "id": "42dc11cecb868ece",
   "outputs": [
    {
     "name": "stdout",
     "output_type": "stream",
     "text": [
      "True\n"
     ]
    }
   ],
   "execution_count": 8
  },
  {
   "metadata": {},
   "cell_type": "markdown",
   "source": "## Dynamic typing",
   "id": "c3a140b0bc10ea0"
  },
  {
   "metadata": {},
   "cell_type": "markdown",
   "source": "Reassign type at run time, Quick to develop, Mess to maintain",
   "id": "c34883ab942cd5ac"
  },
  {
   "metadata": {},
   "cell_type": "markdown",
   "source": "## Math with Strings",
   "id": "b5fc6495666eef7a"
  },
  {
   "metadata": {
    "ExecuteTime": {
     "end_time": "2024-12-30T10:07:48.477688Z",
     "start_time": "2024-12-30T10:07:48.462072Z"
    }
   },
   "cell_type": "code",
   "source": [
    "sentence_start = \"You have \"\n",
    "sentence_end = \" health\"\n",
    "\n",
    "player1_health = \"1200\"\n",
    "player2_health = \"1100\"\n",
    "\n",
    "# Don't edit above this line\n",
    "\n",
    "print(sentence_start+player1_health+sentence_end)\n",
    "print(sentence_start+player2_health+sentence_end)"
   ],
   "id": "b8985be24b2d3f39",
   "outputs": [
    {
     "name": "stdout",
     "output_type": "stream",
     "text": [
      "You have 1200 health\n",
      "You have 1100 health\n"
     ]
    }
   ],
   "execution_count": 9
  },
  {
   "metadata": {},
   "cell_type": "markdown",
   "source": "## Boots",
   "id": "d5d0ede66d29f5c6"
  },
  {
   "metadata": {
    "ExecuteTime": {
     "end_time": "2024-12-30T10:11:09.797884Z",
     "start_time": "2024-12-30T10:11:09.791187Z"
    }
   },
   "cell_type": "code",
   "source": [
    "quest_start = \"You there! Adventurer!\"\n",
    "quest_middle = \"The local mine has been taken over by orcs!\"\n",
    "quest_end = \"We need your help taking it back.\"\n",
    "quest_objective = \"Bring back 8 of their axes as proof of your hard work.\"\n",
    "space = \" \"\n",
    "\n",
    "# don't touch above this line\n",
    "print(quest_start+\"\\n\"+quest_middle+\"\\n\"+quest_end+space+quest_objective)"
   ],
   "id": "b8a04838d2d82629",
   "outputs": [
    {
     "name": "stdout",
     "output_type": "stream",
     "text": [
      "You there! Adventurer!\n",
      "The local mine has been taken over by orcs!\n",
      "We need your help taking it back. Bring back 8 of their axes as proof of your hard work.\n"
     ]
    }
   ],
   "execution_count": 10
  },
  {
   "metadata": {},
   "cell_type": "markdown",
   "source": "## Spellbook",
   "id": "82194667adbe8a1c"
  },
  {
   "metadata": {
    "ExecuteTime": {
     "end_time": "2024-12-30T10:12:39.586522Z",
     "start_time": "2024-12-30T10:12:39.576475Z"
    }
   },
   "cell_type": "code",
   "source": [
    "game_one_score = 97\n",
    "game_two_score = 91\n",
    "game_three_score = 106\n",
    "game_four_score = 105\n",
    "\n",
    "# Don't touch above this line\n",
    "\n",
    "average_score = (game_four_score + game_three_score + game_two_score + game_one_score)/4\n",
    "\n",
    "# Don't touch below this line\n",
    "\n",
    "print(round(average_score))"
   ],
   "id": "dcf2c99924dd8c15",
   "outputs": [
    {
     "name": "stdout",
     "output_type": "stream",
     "text": [
      "100\n"
     ]
    }
   ],
   "execution_count": 11
  },
  {
   "metadata": {},
   "cell_type": "markdown",
   "source": "## Chraracter Report",
   "id": "35f88855d4c59ccf"
  },
  {
   "metadata": {
    "ExecuteTime": {
     "end_time": "2024-12-30T10:15:42.066628Z",
     "start_time": "2024-12-30T10:15:42.054601Z"
    }
   },
   "cell_type": "code",
   "source": [
    "level = 25\n",
    "name = \"Lopen\"\n",
    "character_class = \"Windrunner\"\n",
    "account_active = True\n",
    "pvp_rank = \"Squire\"\n",
    "max_health = 79\n",
    "max_mana = 274\n",
    "armor = 12\n",
    "magic_resistance = 15.4\n",
    "\n",
    "print(\"Character Report\")\n",
    "print(f\"{name} is a level {level} {character_class}, ranked as a {pvp_rank}.\")\n",
    "print(f\"They have {max_health} max health and {max_mana} max mana.\")\n",
    "print(f\"They have {armor} armor and {magic_resistance} magic resistance.\")\n",
    "print(f\"Their account is currently active: {account_active}\")\n",
    "\n",
    "# Don't edit below this line\n",
    "\n",
    "print(\"=========================\")\n",
    "print(\"Character Report Complete\")\n",
    "print(\"Data types:\")\n",
    "print(\n",
    "    f\"level: {type(level).__name__}, name: {type(name).__name__}, character_class: {type(character_class).__name__}\"\n",
    ")\n",
    "print(\n",
    "    f\"account_active: {type(account_active).__name__}, pvp_rank: {type(pvp_rank).__name__}, max_health: {type(max_health).__name__}\"\n",
    ")\n",
    "print(\n",
    "    f\"max_mana: {type(max_mana).__name__}, armor: {type(armor).__name__}, magic_resistance: {type(magic_resistance).__name__}\"\n",
    ")"
   ],
   "id": "1a25370756435e5d",
   "outputs": [
    {
     "name": "stdout",
     "output_type": "stream",
     "text": [
      "Character Report\n",
      "Lopen is a level 25 Windrunner, ranked as a Squire.\n",
      "They have 79 max health and 274 max mana.\n",
      "They have 12 armor and 15.4 magic resistance.\n",
      "Their account is currently active: True\n",
      "=========================\n",
      "Character Report Complete\n",
      "Data types:\n",
      "level: int, name: str, character_class: str\n",
      "account_active: bool, pvp_rank: str, max_health: int\n",
      "max_mana: int, armor: int, magic_resistance: float\n"
     ]
    }
   ],
   "execution_count": 12
  },
  {
   "metadata": {},
   "cell_type": "code",
   "outputs": [],
   "execution_count": null,
   "source": "",
   "id": "1b9b39fdc0dba7b5"
  }
 ],
 "metadata": {
  "kernelspec": {
   "display_name": "Python 3",
   "language": "python",
   "name": "python3"
  },
  "language_info": {
   "codemirror_mode": {
    "name": "ipython",
    "version": 2
   },
   "file_extension": ".py",
   "mimetype": "text/x-python",
   "name": "python",
   "nbconvert_exporter": "python",
   "pygments_lexer": "ipython2",
   "version": "2.7.6"
  }
 },
 "nbformat": 4,
 "nbformat_minor": 5
}
