{
 "cells": [
  {
   "metadata": {},
   "cell_type": "markdown",
   "source": "## Scope",
   "id": "5a728f18775bc998"
  },
  {
   "metadata": {
    "ExecuteTime": {
     "end_time": "2024-12-30T10:46:24.144719Z",
     "start_time": "2024-12-30T10:46:24.128993Z"
    }
   },
   "cell_type": "code",
   "source": [
    "def get_max_health(modifier, level):\n",
    "    return modifier * level\n",
    "\n",
    "\n",
    "my_modifier = 5\n",
    "my_level = 10\n",
    "\n",
    "## don't touch above this line\n",
    "\n",
    "max_health = get_max_health(my_modifier, my_level)\n",
    "\n",
    "# don't touch below this line\n",
    "\n",
    "print(f\"max_health is: {max_health}\")\n"
   ],
   "id": "5ba2e665cd729901",
   "outputs": [
    {
     "name": "stdout",
     "output_type": "stream",
     "text": [
      "max_health is: 50\n"
     ]
    }
   ],
   "execution_count": 1
  },
  {
   "metadata": {},
   "cell_type": "markdown",
   "source": "## Global Scope",
   "id": "beca9262dfe976f0"
  },
  {
   "metadata": {
    "ExecuteTime": {
     "end_time": "2024-12-30T10:52:31.960985Z",
     "start_time": "2024-12-30T10:52:31.949355Z"
    }
   },
   "cell_type": "code",
   "source": [
    "player_level = 4\n",
    "\n",
    "# Don't touch below this line\n",
    "\n",
    "\n",
    "def calculate_health(modifier):\n",
    "    return player_level * modifier\n",
    "\n",
    "\n",
    "def calculate_primary_stats(armor_bonus, modifier):\n",
    "    return armor_bonus + modifier + player_level\n",
    "\n",
    "\n",
    "print(f\"Character has {calculate_health(10)} max health.\")\n",
    "\n",
    "print(f\"Character has {calculate_primary_stats(3, 8)} primary stats.\")"
   ],
   "id": "c1ea89b32eca431e",
   "outputs": [
    {
     "name": "stdout",
     "output_type": "stream",
     "text": [
      "Character has 40 max health.\n",
      "Character has 15 primary stats.\n"
     ]
    }
   ],
   "execution_count": 2
  },
  {
   "metadata": {},
   "cell_type": "markdown",
   "source": "",
   "id": "b8ebe522844c22b0"
  }
 ],
 "metadata": {
  "kernelspec": {
   "display_name": "Python 3",
   "language": "python",
   "name": "python3"
  },
  "language_info": {
   "codemirror_mode": {
    "name": "ipython",
    "version": 2
   },
   "file_extension": ".py",
   "mimetype": "text/x-python",
   "name": "python",
   "nbconvert_exporter": "python",
   "pygments_lexer": "ipython2",
   "version": "2.7.6"
  }
 },
 "nbformat": 4,
 "nbformat_minor": 5
}
