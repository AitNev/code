{
 "cells": [
  {
   "metadata": {},
   "cell_type": "markdown",
   "source": "## Functions",
   "id": "d56ae6086c032fac"
  },
  {
   "metadata": {
    "ExecuteTime": {
     "end_time": "2024-12-30T10:18:09.298196Z",
     "start_time": "2024-12-30T10:18:09.273673Z"
    }
   },
   "cell_type": "code",
   "source": [
    "def area_of_circle(radius):\n",
    "    pi = 3.14\n",
    "    area = pi * radius * radius\n",
    "    return area\n",
    "\n",
    "\n",
    "sword_length = 1.0\n",
    "spear_length = 2.0\n",
    "\n",
    "# don't touch above this line\n",
    "\n",
    "sword_area = area_of_circle(sword_length)\n",
    "spear_area = area_of_circle(spear_length)\n",
    "\n",
    "# don't touch below this line\n",
    "\n",
    "print(\"Sword length:\", sword_length, \"meters.\")\n",
    "print(\"Sword attack area:\", sword_area, \"square meters\")\n",
    "\n",
    "print(\"Spear length:\", spear_length, \"meters.\")\n",
    "print(\"Spear attack area:\", spear_area, \"square meters\")"
   ],
   "id": "41a4d3dad455ca84",
   "outputs": [
    {
     "name": "stdout",
     "output_type": "stream",
     "text": [
      "Sword length: 1.0 meters.\n",
      "Sword attack area: 3.14 square meters\n",
      "Spear length: 2.0 meters.\n",
      "Spear attack area: 12.56 square meters\n"
     ]
    }
   ],
   "execution_count": 1
  },
  {
   "metadata": {},
   "cell_type": "markdown",
   "source": "## Multiple Parameters",
   "id": "7a28da265d7e4f48"
  },
  {
   "metadata": {
    "ExecuteTime": {
     "end_time": "2024-12-30T10:21:08.002799Z",
     "start_time": "2024-12-30T10:21:07.983881Z"
    }
   },
   "cell_type": "code",
   "source": [
    "def triple_attack(damage_one, damage_two, damage_three):\n",
    "    return damage_one + damage_two + damage_three\n",
    "\n",
    "\n",
    "# Don't touch below this line\n",
    "\n",
    "attack_one = 2\n",
    "attack_two = 4\n",
    "attack_three = 3\n",
    "first_triple_attack_damage = triple_attack(attack_one, attack_two, attack_three)\n",
    "\n",
    "print(\"Getting damage for\", attack_one, attack_two, \"and\", attack_three, \"...\")\n",
    "print(first_triple_attack_damage, \"points of damage dealt!\")\n",
    "print(\"=====================================\")\n",
    "\n",
    "attack_four = -1\n",
    "attack_five = 10\n",
    "attack_six = 5\n",
    "second_triple_attack_damage = triple_attack(attack_four, attack_five, attack_six)\n",
    "\n",
    "print(\"Getting damage for\", attack_four, attack_five, \"and\", attack_six, \"...\")\n",
    "print(second_triple_attack_damage, \"points of damage dealt!\")\n",
    "print(\"=====================================\")"
   ],
   "id": "979003f96d8f7eb7",
   "outputs": [
    {
     "name": "stdout",
     "output_type": "stream",
     "text": [
      "Getting damage for 2 4 and 3 ...\n",
      "9 points of damage dealt!\n",
      "=====================================\n",
      "Getting damage for -1 10 and 5 ...\n",
      "14 points of damage dealt!\n",
      "=====================================\n"
     ]
    }
   ],
   "execution_count": 2
  },
  {
   "metadata": {},
   "cell_type": "markdown",
   "source": "## Printing vs Returning",
   "id": "e40d68c4e27a6b11"
  },
  {
   "metadata": {
    "ExecuteTime": {
     "end_time": "2024-12-30T10:22:18.351946Z",
     "start_time": "2024-12-30T10:22:18.332483Z"
    }
   },
   "cell_type": "code",
   "source": [
    "def get_title(first_name, last_name, job):\n",
    "    return first_name + \" \" + last_name + \" the \" + job\n",
    "\n",
    "\n",
    "# Don't touch below this line\n",
    "\n",
    "\n",
    "def test(first_name, last_name, job):\n",
    "    title = get_title(first_name, last_name, job)\n",
    "    print(\"First name:\", first_name)\n",
    "    print(\"Last name:\", last_name)\n",
    "    print(\"Job:\", job)\n",
    "    print(\"Title:\", title)\n",
    "    print(\"=====================================\")\n",
    "\n",
    "\n",
    "test(\"Frodo\", \"Baggins\", \"warrior\")\n",
    "test(\"Bilbo\", \"Baggins\", \"thief\")\n",
    "test(\"Gandalf\", \"The Grey\", \"wizard\")\n",
    "test(\"Aragorn\", \"Son of Arathorn\", \"ranger\")"
   ],
   "id": "1733e9ddfeed48a7",
   "outputs": [
    {
     "name": "stdout",
     "output_type": "stream",
     "text": [
      "First name: Frodo\n",
      "Last name: Baggins\n",
      "Job: warrior\n",
      "Title: Frodo Baggins the warrior\n",
      "=====================================\n",
      "First name: Bilbo\n",
      "Last name: Baggins\n",
      "Job: thief\n",
      "Title: Bilbo Baggins the thief\n",
      "=====================================\n",
      "First name: Gandalf\n",
      "Last name: The Grey\n",
      "Job: wizard\n",
      "Title: Gandalf The Grey the wizard\n",
      "=====================================\n",
      "First name: Aragorn\n",
      "Last name: Son of Arathorn\n",
      "Job: ranger\n",
      "Title: Aragorn Son of Arathorn the ranger\n",
      "=====================================\n"
     ]
    }
   ],
   "execution_count": 3
  },
  {
   "metadata": {},
   "cell_type": "markdown",
   "source": "## Where to Declare // [DEF]ine Functions",
   "id": "c8ed23268169ab08"
  },
  {
   "metadata": {
    "ExecuteTime": {
     "end_time": "2024-12-30T10:24:06.985612Z",
     "start_time": "2024-12-30T10:24:06.978572Z"
    }
   },
   "cell_type": "code",
   "source": [
    "def main():\n",
    "    print(\"Fantasy Quest is booting up...\")\n",
    "    print(\"Game is running!\")\n",
    "\n",
    "main()"
   ],
   "id": "9d288fd01f65f4df",
   "outputs": [
    {
     "name": "stdout",
     "output_type": "stream",
     "text": [
      "Fantasy Quest is booting up...\n",
      "Game is running!\n"
     ]
    }
   ],
   "execution_count": 4
  },
  {
   "metadata": {},
   "cell_type": "markdown",
   "source": "## Discord",
   "id": "4a822afbc0d9e62b"
  },
  {
   "metadata": {
    "ExecuteTime": {
     "end_time": "2024-12-30T10:26:44.956095Z",
     "start_time": "2024-12-30T10:26:44.948588Z"
    }
   },
   "cell_type": "code",
   "source": [
    "def to_celsius(f):\n",
    "    return 5/9 * (f - 32)\n",
    "\n",
    "\n",
    "## Don't touch below this line\n",
    "\n",
    "\n",
    "def test(f):\n",
    "    c = round(to_celsius(f), 2)\n",
    "    print(f, \"degrees fahrenheit is\", c, \"degrees celsius\")\n",
    "\n",
    "\n",
    "test(100)\n",
    "test(88)\n",
    "test(104)\n",
    "test(112)"
   ],
   "id": "76ef666f683b1f68",
   "outputs": [
    {
     "name": "stdout",
     "output_type": "stream",
     "text": [
      "100 degrees fahrenheit is 37.78 degrees celsius\n",
      "88 degrees fahrenheit is 31.11 degrees celsius\n",
      "104 degrees fahrenheit is 40.0 degrees celsius\n",
      "112 degrees fahrenheit is 44.44 degrees celsius\n"
     ]
    }
   ],
   "execution_count": 5
  },
  {
   "metadata": {},
   "cell_type": "markdown",
   "source": "## Solutions",
   "id": "18bec2c064973598"
  },
  {
   "metadata": {
    "ExecuteTime": {
     "end_time": "2024-12-30T10:28:32.560739Z",
     "start_time": "2024-12-30T10:28:32.552136Z"
    }
   },
   "cell_type": "code",
   "source": [
    "def hours_to_seconds(hours):\n",
    "    return hours * 3600\n",
    "\n",
    "\n",
    "# Don't touch below this line\n",
    "\n",
    "\n",
    "def test(hours):\n",
    "    secs = hours_to_seconds(hours)\n",
    "    print(hours, \"hours is\", secs, \"seconds\")\n",
    "\n",
    "\n",
    "test(10)\n",
    "test(1)\n",
    "test(25)\n",
    "test(100)\n",
    "test(33)"
   ],
   "id": "1e65e6ccb5483c32",
   "outputs": [
    {
     "name": "stdout",
     "output_type": "stream",
     "text": [
      "10 hours is 36000 seconds\n",
      "1 hours is 3600 seconds\n",
      "25 hours is 90000 seconds\n",
      "100 hours is 360000 seconds\n",
      "33 hours is 118800 seconds\n"
     ]
    }
   ],
   "execution_count": 6
  },
  {
   "metadata": {},
   "cell_type": "markdown",
   "source": "## Multiple return values",
   "id": "5c79e0cd76d5b41a"
  },
  {
   "metadata": {
    "ExecuteTime": {
     "end_time": "2024-12-30T10:34:38.586575Z",
     "start_time": "2024-12-30T10:34:38.579402Z"
    }
   },
   "cell_type": "code",
   "source": [
    "def become_warrior(first_name, last_name, power):\n",
    "    return f\"{first_name} {last_name} the warrior\", power+1\n",
    "\n",
    "\n",
    "# Don't edit below this line\n",
    "\n",
    "\n",
    "def main():\n",
    "    test(\"Frodo\", \"Baggins\", 5)\n",
    "    test(\"Bilbo\", \"Baggins\", 10)\n",
    "    test(\"Gandalf\", \"The Grey\", 9000)\n",
    "\n",
    "\n",
    "def test(input1, input2, input3):\n",
    "    result1, result2 = become_warrior(input1, input2, input3)\n",
    "    print(result1, \"has a power level of:\", result2)\n",
    "\n",
    "\n",
    "main()"
   ],
   "id": "bbb18100d71258f0",
   "outputs": [
    {
     "name": "stdout",
     "output_type": "stream",
     "text": [
      "Frodo Baggins the warrior has a power level of: 6\n",
      "Bilbo Baggins the warrior has a power level of: 11\n",
      "Gandalf The Grey the warrior has a power level of: 9001\n"
     ]
    }
   ],
   "execution_count": 7
  },
  {
   "metadata": {},
   "cell_type": "markdown",
   "source": "## Default Parameters",
   "id": "5ee8ab26d4194bea"
  },
  {
   "metadata": {
    "ExecuteTime": {
     "end_time": "2024-12-30T10:40:16.804171Z",
     "start_time": "2024-12-30T10:40:16.796130Z"
    }
   },
   "cell_type": "code",
   "source": [
    "def get_punched(health, armor=0):\n",
    "    return health - (50 - armor)\n",
    "\n",
    "def get_slashed(health, armor=0):\n",
    "    return health - (100 - armor)\n",
    "\n",
    "\n",
    "# Don't touch below this line\n",
    "\n",
    "\n",
    "def test(health, armor):\n",
    "    print(f\"Health: {health}, Armor: {armor}\")\n",
    "    print(f\"Health after punch: {get_punched(health, armor)}\")\n",
    "    print(\"=====================================\")\n",
    "    print(f\"Health: {health}, Armor: {armor}\")\n",
    "    print(f\"Health after slash: {get_slashed(health, armor)}\\n\")\n",
    "    print(\"=====================================\")\n",
    "    print(f\"Health: {health}, Armor: no armor!\")\n",
    "    print(f\"Health after slash: {get_slashed(health)}\\n\")\n",
    "    print(\"=====================================\")\n",
    "    print(f\"Health: {health}, Armor: no armor!\")\n",
    "    print(f\"Health after punch: {get_punched(health)}\")\n",
    "    print(\"=====================================\")\n",
    "\n",
    "\n",
    "test(400, 5)\n",
    "test(300, 3)\n",
    "test(200, 1)"
   ],
   "id": "e46d5ea5bf702f1e",
   "outputs": [
    {
     "name": "stdout",
     "output_type": "stream",
     "text": [
      "Health: 400, Armor: 5\n",
      "Health after punch: 355\n",
      "=====================================\n",
      "Health: 400, Armor: 5\n",
      "Health after slash: 305\n",
      "\n",
      "=====================================\n",
      "Health: 400, Armor: no armor!\n",
      "Health after slash: 300\n",
      "\n",
      "=====================================\n",
      "Health: 400, Armor: no armor!\n",
      "Health after punch: 350\n",
      "=====================================\n",
      "Health: 300, Armor: 3\n",
      "Health after punch: 253\n",
      "=====================================\n",
      "Health: 300, Armor: 3\n",
      "Health after slash: 203\n",
      "\n",
      "=====================================\n",
      "Health: 300, Armor: no armor!\n",
      "Health after slash: 200\n",
      "\n",
      "=====================================\n",
      "Health: 300, Armor: no armor!\n",
      "Health after punch: 250\n",
      "=====================================\n",
      "Health: 200, Armor: 1\n",
      "Health after punch: 151\n",
      "=====================================\n",
      "Health: 200, Armor: 1\n",
      "Health after slash: 101\n",
      "\n",
      "=====================================\n",
      "Health: 200, Armor: no armor!\n",
      "Health after slash: 100\n",
      "\n",
      "=====================================\n",
      "Health: 200, Armor: no armor!\n",
      "Health after punch: 150\n",
      "=====================================\n"
     ]
    }
   ],
   "execution_count": 8
  },
  {
   "metadata": {},
   "cell_type": "markdown",
   "source": "## Curse",
   "id": "2e731fcb7ca3459b"
  },
  {
   "metadata": {
    "ExecuteTime": {
     "end_time": "2024-12-30T10:42:09.176415Z",
     "start_time": "2024-12-30T10:42:09.169417Z"
    }
   },
   "cell_type": "code",
   "source": [
    "def curse(weapon_damage):\n",
    "    return weapon_damage * 0.5, weapon_damage * 0.25\n",
    "\n",
    "\n",
    "# Don't modify below this line\n",
    "\n",
    "\n",
    "def test(weapon_damage):\n",
    "    print(\"Weapon's base damage:\", float(weapon_damage))\n",
    "    print(\"Cursing...\")\n",
    "    lesser_cursed, greater_cursed = curse(weapon_damage)\n",
    "    print(\"With lesser curse the damage is:\", float(lesser_cursed), \"damage.\")\n",
    "    print(\"With greater curse the damage is:\", float(greater_cursed), \"damage.\")\n",
    "    print(\"=====================================\")\n",
    "\n",
    "\n",
    "def main():\n",
    "    test(100)\n",
    "    test(500)\n",
    "    test(1000)\n",
    "\n",
    "\n",
    "main()"
   ],
   "id": "258fd4746d6e8a8d",
   "outputs": [
    {
     "name": "stdout",
     "output_type": "stream",
     "text": [
      "Weapon's base damage: 100.0\n",
      "Cursing...\n",
      "With lesser curse the damage is: 50.0 damage.\n",
      "With greater curse the damage is: 25.0 damage.\n",
      "=====================================\n",
      "Weapon's base damage: 500.0\n",
      "Cursing...\n",
      "With lesser curse the damage is: 250.0 damage.\n",
      "With greater curse the damage is: 125.0 damage.\n",
      "=====================================\n",
      "Weapon's base damage: 1000.0\n",
      "Cursing...\n",
      "With lesser curse the damage is: 500.0 damage.\n",
      "With greater curse the damage is: 250.0 damage.\n",
      "=====================================\n"
     ]
    }
   ],
   "execution_count": 9
  },
  {
   "metadata": {},
   "cell_type": "markdown",
   "source": "## Enchant and Attack",
   "id": "f401c3a2e93a6662"
  },
  {
   "metadata": {
    "ExecuteTime": {
     "end_time": "2024-12-30T10:44:35.496512Z",
     "start_time": "2024-12-30T10:44:35.488052Z"
    }
   },
   "cell_type": "code",
   "source": [
    "def enchant_and_attack(target_health, damage, weapon):\n",
    "    return \"enchanted \"+weapon, target_health-(damage+10)\n",
    "\n",
    "\n",
    "# Don't modify below this line\n",
    "\n",
    "\n",
    "def test(target_health, damage, weapon):\n",
    "    print(\"The target has\", target_health, \"health.\")\n",
    "    print(weapon, \"base damage:\", damage, \"- Enchanting and attacking.\")\n",
    "    enchanted_weapon, new_health = enchant_and_attack(target_health, damage, weapon)\n",
    "    print(\"The target has been attacked with the\", enchanted_weapon)\n",
    "    print(\"The target has\", new_health, \"health remaining.\")\n",
    "    print(\"=====================================\")\n",
    "\n",
    "\n",
    "def main():\n",
    "    test(100, 50, \"sword\")\n",
    "    test(500, 100, \"axe\")\n",
    "    test(1000, 250, \"bow\")\n",
    "\n",
    "\n",
    "main()"
   ],
   "id": "b1c13b3b1f5db6f6",
   "outputs": [
    {
     "name": "stdout",
     "output_type": "stream",
     "text": [
      "The target has 100 health.\n",
      "sword base damage: 50 - Enchanting and attacking.\n",
      "The target has been attacked with the enchanted sword\n",
      "The target has 40 health remaining.\n",
      "=====================================\n",
      "The target has 500 health.\n",
      "axe base damage: 100 - Enchanting and attacking.\n",
      "The target has been attacked with the enchanted axe\n",
      "The target has 390 health remaining.\n",
      "=====================================\n",
      "The target has 1000 health.\n",
      "bow base damage: 250 - Enchanting and attacking.\n",
      "The target has been attacked with the enchanted bow\n",
      "The target has 740 health remaining.\n",
      "=====================================\n"
     ]
    }
   ],
   "execution_count": 10
  },
  {
   "metadata": {},
   "cell_type": "code",
   "outputs": [],
   "execution_count": null,
   "source": "",
   "id": "e6e930d4a106c967"
  }
 ],
 "metadata": {
  "kernelspec": {
   "display_name": "Python 3",
   "language": "python",
   "name": "python3"
  },
  "language_info": {
   "codemirror_mode": {
    "name": "ipython",
    "version": 2
   },
   "file_extension": ".py",
   "mimetype": "text/x-python",
   "name": "python",
   "nbconvert_exporter": "python",
   "pygments_lexer": "ipython2",
   "version": "2.7.6"
  }
 },
 "nbformat": 4,
 "nbformat_minor": 5
}
