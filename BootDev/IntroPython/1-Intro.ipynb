{
 "cells": [
  {
   "metadata": {},
   "cell_type": "markdown",
   "source": "## Welcome to \"Learn Python\"",
   "id": "d5a4476e407c1c0f"
  },
  {
   "metadata": {
    "ExecuteTime": {
     "end_time": "2024-12-30T09:38:20.275058Z",
     "start_time": "2024-12-30T09:38:20.261700Z"
    }
   },
   "cell_type": "code",
   "source": "print(\"Welcome to Fantasy Quest!\")",
   "id": "3efebd00a356d1b7",
   "outputs": [
    {
     "name": "stdout",
     "output_type": "stream",
     "text": [
      "Welcome to Fantasy Quest!\n"
     ]
    }
   ],
   "execution_count": 1
  },
  {
   "metadata": {},
   "cell_type": "markdown",
   "source": "## Fix your first bug",
   "id": "1dca46e593af4b72"
  },
  {
   "metadata": {
    "ExecuteTime": {
     "end_time": "2024-12-30T09:39:33.949742Z",
     "start_time": "2024-12-30T09:39:33.936093Z"
    }
   },
   "cell_type": "code",
   "source": [
    "sword_damage = 10\n",
    "player_health = 100\n",
    "health_after_attack = player_health - sword_damage\n",
    "\n",
    "# Don't touch below this line\n",
    "print(f\"Lollilfred's health is: {player_health}\")\n",
    "print(f\"Lollilfred is hit by a sword for {sword_damage} damage...\")\n",
    "print(f\"Lollilfred's health is now: {health_after_attack}\")"
   ],
   "id": "75d39bf07ebfb4e1",
   "outputs": [
    {
     "name": "stdout",
     "output_type": "stream",
     "text": [
      "Lollilfred's health is: 100\n",
      "Lollilfred is hit by a sword for 10 damage...\n",
      "Lollilfred's health is now: 90\n"
     ]
    }
   ],
   "execution_count": 2
  },
  {
   "metadata": {},
   "cell_type": "markdown",
   "source": "## The console",
   "id": "8972e8802ce055b5"
  },
  {
   "metadata": {
    "ExecuteTime": {
     "end_time": "2024-12-30T09:40:29.718228Z",
     "start_time": "2024-12-30T09:40:29.702409Z"
    }
   },
   "cell_type": "code",
   "source": "print(\"Use the arrow keys to move\")",
   "id": "9c4ec6c2e28e6137",
   "outputs": [
    {
     "name": "stdout",
     "output_type": "stream",
     "text": [
      "Use the arrow keys to move\n"
     ]
    }
   ],
   "execution_count": 3
  },
  {
   "metadata": {},
   "cell_type": "markdown",
   "source": "## What is \"Code\"",
   "id": "e6745685c85d330d"
  },
  {
   "metadata": {
    "ExecuteTime": {
     "end_time": "2024-12-30T09:41:35.278709Z",
     "start_time": "2024-12-30T09:41:35.263057Z"
    }
   },
   "cell_type": "code",
   "source": "print(250 + 75)",
   "id": "58874632bde1780b",
   "outputs": [
    {
     "name": "stdout",
     "output_type": "stream",
     "text": [
      "325\n"
     ]
    }
   ],
   "execution_count": 4
  },
  {
   "metadata": {},
   "cell_type": "markdown",
   "source": "## Multiple Instructions",
   "id": "90aa270959fd25ad"
  },
  {
   "metadata": {
    "ExecuteTime": {
     "end_time": "2024-12-30T09:42:12.666169Z",
     "start_time": "2024-12-30T09:42:12.650536Z"
    }
   },
   "cell_type": "code",
   "source": "print(\"Jax: B-Kaw!\\nHero: ...\\nJax: Where are you off to this morning? Bkaw...\\nHero: Where did an owl learn to speak??\")",
   "id": "38bd08d75791d279",
   "outputs": [
    {
     "name": "stdout",
     "output_type": "stream",
     "text": [
      "Jax: B-Kaw!\n",
      "Hero: ...\n",
      "Jax: Where are you off to this morning? Bkaw...\n",
      "Hero: Where did an owl learn to speak??\n"
     ]
    }
   ],
   "execution_count": 5
  },
  {
   "metadata": {},
   "cell_type": "markdown",
   "source": "## Syntax Errors",
   "id": "6622bb649e86b6d9"
  },
  {
   "metadata": {
    "ExecuteTime": {
     "end_time": "2024-12-30T09:42:40.169633Z",
     "start_time": "2024-12-30T09:42:40.153993Z"
    }
   },
   "cell_type": "code",
   "source": "print(\"Welcome to Fantasy Quest!\")",
   "id": "110e009c0a0f8aa7",
   "outputs": [
    {
     "name": "stdout",
     "output_type": "stream",
     "text": [
      "Welcome to Fantasy Quest!\n"
     ]
    }
   ],
   "execution_count": 6
  },
  {
   "metadata": {},
   "cell_type": "markdown",
   "source": "## Lesson Failure",
   "id": "9169d718962fda0a"
  },
  {
   "metadata": {
    "ExecuteTime": {
     "end_time": "2024-12-30T09:43:05.678777Z",
     "start_time": "2024-12-30T09:43:05.663078Z"
    }
   },
   "cell_type": "code",
   "source": [
    "print(\"Starting up game server...\")\n",
    "print(\"local game server is listening on port 8080\")"
   ],
   "id": "17c1ad81121f56be",
   "outputs": [
    {
     "name": "stdout",
     "output_type": "stream",
     "text": [
      "Starting up game server...\n",
      "local game server is listening on port 8080\n"
     ]
    }
   ],
   "execution_count": 7
  },
  {
   "metadata": {},
   "cell_type": "markdown",
   "source": "## Game Statistics",
   "id": "7e2e4039ab01a6fe"
  },
  {
   "metadata": {
    "ExecuteTime": {
     "end_time": "2024-12-30T09:44:02.417847Z",
     "start_time": "2024-12-30T09:44:02.402221Z"
    }
   },
   "cell_type": "code",
   "source": "print((250 + 241 + 244 + 255) / 4)",
   "id": "4e912ce9b8ab931a",
   "outputs": [
    {
     "name": "stdout",
     "output_type": "stream",
     "text": [
      "247.5\n"
     ]
    }
   ],
   "execution_count": 8
  },
  {
   "metadata": {},
   "cell_type": "markdown",
   "source": "## Shop Response",
   "id": "3fbf7d1be55b644c"
  },
  {
   "metadata": {
    "ExecuteTime": {
     "end_time": "2024-12-30T09:45:00.751602Z",
     "start_time": "2024-12-30T09:45:00.722796Z"
    }
   },
   "cell_type": "code",
   "source": "print(\"Ah! Great choices...\\nIs there anything else I can help you with?\")",
   "id": "4004823d85ed78f4",
   "outputs": [
    {
     "name": "stdout",
     "output_type": "stream",
     "text": [
      "Ah! Great choices...\n",
      "Is there anything else I can help you with?\n"
     ]
    }
   ],
   "execution_count": 9
  },
  {
   "metadata": {},
   "cell_type": "code",
   "outputs": [],
   "execution_count": null,
   "source": "",
   "id": "cdc1fcd56d6dd557"
  }
 ],
 "metadata": {
  "kernelspec": {
   "display_name": "Python 3",
   "language": "python",
   "name": "python3"
  },
  "language_info": {
   "codemirror_mode": {
    "name": "ipython",
    "version": 2
   },
   "file_extension": ".py",
   "mimetype": "text/x-python",
   "name": "python",
   "nbconvert_exporter": "python",
   "pygments_lexer": "ipython2",
   "version": "2.7.6"
  }
 },
 "nbformat": 4,
 "nbformat_minor": 5
}
