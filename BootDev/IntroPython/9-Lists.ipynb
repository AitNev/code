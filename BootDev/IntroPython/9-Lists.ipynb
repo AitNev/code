{
 "cells": [
  {
   "metadata": {},
   "cell_type": "markdown",
   "source": "## Lists",
   "id": "1ea020ea8f711578"
  },
  {
   "metadata": {
    "ExecuteTime": {
     "end_time": "2024-12-30T13:18:51.706758Z",
     "start_time": "2024-12-30T13:18:51.694563Z"
    }
   },
   "cell_type": "code",
   "source": [
    "def get_inventory():\n",
    "    return [\"Healing Potion\", \"Leather Scraps\", \"Iron Helmet\", \"Shortsword\"]\n",
    "\n",
    "\n",
    "# Don't edit below this line\n",
    "\n",
    "\n",
    "def test():\n",
    "    inventory = get_inventory()\n",
    "    print(f\"Inventory contains: {inventory}\")\n",
    "    print(\"=====================================\")\n",
    "\n",
    "\n",
    "def main():\n",
    "    test()\n",
    "\n",
    "\n",
    "main()"
   ],
   "id": "838326a9183a6e7e",
   "outputs": [
    {
     "name": "stdout",
     "output_type": "stream",
     "text": [
      "Inventory contains: ['Healing Potion', 'Leather Scraps', 'Iron Helmet', 'Shortsword']\n",
      "=====================================\n"
     ]
    }
   ],
   "execution_count": 1
  },
  {
   "metadata": {},
   "cell_type": "markdown",
   "source": "## Indexing into lists",
   "id": "49b7d84a295d4e35"
  },
  {
   "metadata": {
    "ExecuteTime": {
     "end_time": "2024-12-30T13:20:24.772391Z",
     "start_time": "2024-12-30T13:20:24.744041Z"
    }
   },
   "cell_type": "code",
   "source": [
    "def get_leather_scraps():\n",
    "    inventory = [\n",
    "        \"Healing Potion\",\n",
    "        \"Leather Scraps\",\n",
    "        \"Iron Helmet\",\n",
    "        \"Bread\",\n",
    "        \"Shortsword\",\n",
    "    ]\n",
    "\n",
    "    item_index = 1\n",
    "\n",
    "    return inventory[item_index]"
   ],
   "id": "e8364a4ee9063df4",
   "outputs": [],
   "execution_count": 2
  },
  {
   "metadata": {
    "ExecuteTime": {
     "end_time": "2024-12-30T13:20:35.035132Z",
     "start_time": "2024-12-30T13:20:35.012664Z"
    }
   },
   "cell_type": "code",
   "source": [
    "run_cases = [\n",
    "    (\"Leather Scraps\",),\n",
    "]\n",
    "\n",
    "submit_cases = run_cases + [\n",
    "    (\"Leather Scraps\",),\n",
    "]\n",
    "\n",
    "\n",
    "def test(expected_output):\n",
    "    print(\"---------------------------------\")\n",
    "    print(f\"Expecting: {expected_output}\")\n",
    "    result = get_leather_scraps()\n",
    "    print(f\"Actual: {result}\")\n",
    "    if result == expected_output:\n",
    "        print(\"Pass\")\n",
    "        return True\n",
    "    print(\"Fail\")\n",
    "    return False\n",
    "\n",
    "\n",
    "def main():\n",
    "    passed = 0\n",
    "    failed = 0\n",
    "    for test_case in test_cases:\n",
    "        correct = test(*test_case)\n",
    "        if correct:\n",
    "            passed += 1\n",
    "        else:\n",
    "            failed += 1\n",
    "    if failed == 0:\n",
    "        print(\"============= PASS ==============\")\n",
    "    else:\n",
    "        print(\"============= FAIL ==============\")\n",
    "    print(f\"{passed} passed, {failed} failed\")\n",
    "\n",
    "\n",
    "test_cases = submit_cases\n",
    "if \"__RUN__\" in globals():\n",
    "    test_cases = run_cases\n",
    "\n",
    "main()"
   ],
   "id": "b2d159bd2cbaf2a5",
   "outputs": [
    {
     "name": "stdout",
     "output_type": "stream",
     "text": [
      "---------------------------------\n",
      "Expecting: Leather Scraps\n",
      "Actual: Leather Scraps\n",
      "Pass\n",
      "---------------------------------\n",
      "Expecting: Leather Scraps\n",
      "Actual: Leather Scraps\n",
      "Pass\n",
      "============= PASS ==============\n",
      "2 passed, 0 failed\n"
     ]
    }
   ],
   "execution_count": 3
  },
  {
   "metadata": {},
   "cell_type": "markdown",
   "source": "## List length",
   "id": "807870a3641210ae"
  },
  {
   "metadata": {
    "ExecuteTime": {
     "end_time": "2024-12-30T13:21:25.161001Z",
     "start_time": "2024-12-30T13:21:25.142797Z"
    }
   },
   "cell_type": "code",
   "source": [
    "def get_last_index(inventory):\n",
    "    return len(inventory) - 1"
   ],
   "id": "cfba4cc77645c73e",
   "outputs": [],
   "execution_count": 4
  },
  {
   "metadata": {
    "ExecuteTime": {
     "end_time": "2024-12-30T13:21:37.835503Z",
     "start_time": "2024-12-30T13:21:37.821853Z"
    }
   },
   "cell_type": "code",
   "source": [
    "run_cases = [\n",
    "    ([\"Potion\"], 0),\n",
    "    ([\"Potion\", \"Iron Breastplate\"], 1),\n",
    "    ([\"Potion\", \"Iron Breastplate\", \"Bread\", \"Longsword\"], 3),\n",
    "]\n",
    "\n",
    "submit_cases = run_cases + [\n",
    "    ([], -1),\n",
    "    ([\"Single item\"], 0),\n",
    "    ([\"Shield\", \"Sword\", \"Bow\", \"Arrows\", \"Health Potion\"], 4),\n",
    "    ([\"Shield\", \"Sword\", \"Bow\"], 2),\n",
    "    ([\"Shield\", \"Sword\"], 1),\n",
    "]\n",
    "\n",
    "\n",
    "def test(input1, expected_output):\n",
    "    print(\"---------------------------------\")\n",
    "    print(f\"Inputs: {input1}\")\n",
    "    print(f\"Expecting: {expected_output}\")\n",
    "    result = get_last_index(input1)\n",
    "    print(f\"Actual: {result}\")\n",
    "    if result == expected_output:\n",
    "        print(\"Pass\")\n",
    "        return True\n",
    "    print(\"Fail\")\n",
    "    return False\n",
    "\n",
    "\n",
    "def main():\n",
    "    passed = 0\n",
    "    failed = 0\n",
    "    for test_case in test_cases:\n",
    "        correct = test(*test_case)\n",
    "        if correct:\n",
    "            passed += 1\n",
    "        else:\n",
    "            failed += 1\n",
    "    if failed == 0:\n",
    "        print(\"============= PASS ==============\")\n",
    "    else:\n",
    "        print(\"============= FAIL ==============\")\n",
    "    print(f\"{passed} passed, {failed} failed\")\n",
    "\n",
    "\n",
    "test_cases = submit_cases\n",
    "if \"__RUN__\" in globals():\n",
    "    test_cases = run_cases\n",
    "\n",
    "main()"
   ],
   "id": "b0875878d1a4992",
   "outputs": [
    {
     "name": "stdout",
     "output_type": "stream",
     "text": [
      "---------------------------------\n",
      "Inputs: ['Potion']\n",
      "Expecting: 0\n",
      "Actual: 0\n",
      "Pass\n",
      "---------------------------------\n",
      "Inputs: ['Potion', 'Iron Breastplate']\n",
      "Expecting: 1\n",
      "Actual: 1\n",
      "Pass\n",
      "---------------------------------\n",
      "Inputs: ['Potion', 'Iron Breastplate', 'Bread', 'Longsword']\n",
      "Expecting: 3\n",
      "Actual: 3\n",
      "Pass\n",
      "---------------------------------\n",
      "Inputs: []\n",
      "Expecting: -1\n",
      "Actual: -1\n",
      "Pass\n",
      "---------------------------------\n",
      "Inputs: ['Single item']\n",
      "Expecting: 0\n",
      "Actual: 0\n",
      "Pass\n",
      "---------------------------------\n",
      "Inputs: ['Shield', 'Sword', 'Bow', 'Arrows', 'Health Potion']\n",
      "Expecting: 4\n",
      "Actual: 4\n",
      "Pass\n",
      "---------------------------------\n",
      "Inputs: ['Shield', 'Sword', 'Bow']\n",
      "Expecting: 2\n",
      "Actual: 2\n",
      "Pass\n",
      "---------------------------------\n",
      "Inputs: ['Shield', 'Sword']\n",
      "Expecting: 1\n",
      "Actual: 1\n",
      "Pass\n",
      "============= PASS ==============\n",
      "8 passed, 0 failed\n"
     ]
    }
   ],
   "execution_count": 5
  },
  {
   "metadata": {},
   "cell_type": "markdown",
   "source": "## List Updates",
   "id": "f945fe26b80b2314"
  },
  {
   "metadata": {
    "ExecuteTime": {
     "end_time": "2024-12-30T13:24:27.607485Z",
     "start_time": "2024-12-30T13:24:27.593870Z"
    }
   },
   "cell_type": "code",
   "source": [
    "def smelt_ore(inventory):\n",
    "    if inventory[1] == \"Iron Ore\":inventory[1] = \"Iron Bar\"\n",
    "\n",
    "    return inventory"
   ],
   "id": "1def466ba7e89706",
   "outputs": [],
   "execution_count": 6
  },
  {
   "metadata": {
    "ExecuteTime": {
     "end_time": "2024-12-30T13:24:39.777867Z",
     "start_time": "2024-12-30T13:24:39.768593Z"
    }
   },
   "cell_type": "code",
   "source": [
    "run_cases = [\n",
    "    (\n",
    "        [\"Potion\", \"Iron Bar\", \"Iron Sword\", \"Leather Armor\"],\n",
    "        [\"Potion\", \"Iron Bar\", \"Iron Sword\", \"Leather Armor\"],\n",
    "    ),\n",
    "    ([\"Potion\", \"Iron Ore\", None, None], [\"Potion\", \"Iron Bar\", None, None]),\n",
    "]\n",
    "\n",
    "submit_cases = run_cases + [\n",
    "    ([None, None, None, None], [None, None, None, None]),\n",
    "    (\n",
    "        [None, \"Iron Ore\", None, \"Leather Armor\"],\n",
    "        [None, \"Iron Bar\", None, \"Leather Armor\"],\n",
    "    ),\n",
    "]\n",
    "\n",
    "\n",
    "def test(input1, expected_output):\n",
    "    print(\"---------------------------------\")\n",
    "    print(f\"Inputs: {input1}\")\n",
    "    print(f\"Expecting: {expected_output}\")\n",
    "    result = smelt_ore(input1)\n",
    "    print(f\"Actual: {result}\")\n",
    "    if result == expected_output:\n",
    "        print(\"Pass\")\n",
    "        return True\n",
    "    print(\"Fail\")\n",
    "    return False\n",
    "\n",
    "\n",
    "def main():\n",
    "    passed = 0\n",
    "    failed = 0\n",
    "    for test_case in test_cases:\n",
    "        correct = test(*test_case)\n",
    "        if correct:\n",
    "            passed += 1\n",
    "        else:\n",
    "            failed += 1\n",
    "    if failed == 0:\n",
    "        print(\"============= PASS ==============\")\n",
    "    else:\n",
    "        print(\"============= FAIL ==============\")\n",
    "    print(f\"{passed} passed, {failed} failed\")\n",
    "\n",
    "\n",
    "test_cases = submit_cases\n",
    "if \"__RUN__\" in globals():\n",
    "    test_cases = run_cases\n",
    "\n",
    "main()"
   ],
   "id": "283de267e5b9e05e",
   "outputs": [
    {
     "name": "stdout",
     "output_type": "stream",
     "text": [
      "---------------------------------\n",
      "Inputs: ['Potion', 'Iron Bar', 'Iron Sword', 'Leather Armor']\n",
      "Expecting: ['Potion', 'Iron Bar', 'Iron Sword', 'Leather Armor']\n",
      "Actual: ['Potion', 'Iron Bar', 'Iron Sword', 'Leather Armor']\n",
      "Pass\n",
      "---------------------------------\n",
      "Inputs: ['Potion', 'Iron Ore', None, None]\n",
      "Expecting: ['Potion', 'Iron Bar', None, None]\n",
      "Actual: ['Potion', 'Iron Bar', None, None]\n",
      "Pass\n",
      "---------------------------------\n",
      "Inputs: [None, None, None, None]\n",
      "Expecting: [None, None, None, None]\n",
      "Actual: [None, None, None, None]\n",
      "Pass\n",
      "---------------------------------\n",
      "Inputs: [None, 'Iron Ore', None, 'Leather Armor']\n",
      "Expecting: [None, 'Iron Bar', None, 'Leather Armor']\n",
      "Actual: [None, 'Iron Bar', None, 'Leather Armor']\n",
      "Pass\n",
      "============= PASS ==============\n",
      "4 passed, 0 failed\n"
     ]
    }
   ],
   "execution_count": 7
  },
  {
   "metadata": {},
   "cell_type": "markdown",
   "source": "## Appending",
   "id": "43a8a9f4d62bcd3f"
  },
  {
   "metadata": {
    "ExecuteTime": {
     "end_time": "2024-12-30T13:26:06.288146Z",
     "start_time": "2024-12-30T13:26:06.271911Z"
    }
   },
   "cell_type": "code",
   "source": [
    "def generate_user_list(num_of_users):\n",
    "    player_ids = []\n",
    "\n",
    "    for i in range(0, num_of_users):\n",
    "        player_ids.append(i)\n",
    "\n",
    "    return player_ids"
   ],
   "id": "b9d8f42fc640ffff",
   "outputs": [],
   "execution_count": 8
  },
  {
   "metadata": {
    "ExecuteTime": {
     "end_time": "2024-12-30T13:26:15.268406Z",
     "start_time": "2024-12-30T13:26:15.253919Z"
    }
   },
   "cell_type": "code",
   "source": [
    "run_cases = [\n",
    "    (5, list(range(5))),\n",
    "    (10, list(range(10))),\n",
    "]\n",
    "\n",
    "submit_cases = run_cases + [\n",
    "    (0, []),\n",
    "    (1, [0]),\n",
    "    (100, list(range(100))),\n",
    "    (25, list(range(25))),\n",
    "    (50, list(range(50))),\n",
    "]\n",
    "\n",
    "\n",
    "def test(input1, expected_output):\n",
    "    print(\"---------------------------------\")\n",
    "    print(f\"Inputs: {input1}\")\n",
    "    print(f\"Expecting: {expected_output}\")\n",
    "    result = generate_user_list(input1)\n",
    "    print(f\"Actual: {result}\")\n",
    "    if result == expected_output:\n",
    "        print(\"Pass\")\n",
    "        return True\n",
    "    print(\"Fail\")\n",
    "    return False\n",
    "\n",
    "\n",
    "def main():\n",
    "    passed = 0\n",
    "    failed = 0\n",
    "    for test_case in test_cases:\n",
    "        correct = test(*test_case)\n",
    "        if correct:\n",
    "            passed += 1\n",
    "        else:\n",
    "            failed += 1\n",
    "    if failed == 0:\n",
    "        print(\"============= PASS ==============\")\n",
    "    else:\n",
    "        print(\"============= FAIL ==============\")\n",
    "    print(f\"{passed} passed, {failed} failed\")\n",
    "\n",
    "\n",
    "test_cases = submit_cases\n",
    "if \"__RUN__\" in globals():\n",
    "    test_cases = run_cases\n",
    "\n",
    "main()"
   ],
   "id": "b4ed0498f2e6ec60",
   "outputs": [
    {
     "name": "stdout",
     "output_type": "stream",
     "text": [
      "---------------------------------\n",
      "Inputs: 5\n",
      "Expecting: [0, 1, 2, 3, 4]\n",
      "Actual: [0, 1, 2, 3, 4]\n",
      "Pass\n",
      "---------------------------------\n",
      "Inputs: 10\n",
      "Expecting: [0, 1, 2, 3, 4, 5, 6, 7, 8, 9]\n",
      "Actual: [0, 1, 2, 3, 4, 5, 6, 7, 8, 9]\n",
      "Pass\n",
      "---------------------------------\n",
      "Inputs: 0\n",
      "Expecting: []\n",
      "Actual: []\n",
      "Pass\n",
      "---------------------------------\n",
      "Inputs: 1\n",
      "Expecting: [0]\n",
      "Actual: [0]\n",
      "Pass\n",
      "---------------------------------\n",
      "Inputs: 100\n",
      "Expecting: [0, 1, 2, 3, 4, 5, 6, 7, 8, 9, 10, 11, 12, 13, 14, 15, 16, 17, 18, 19, 20, 21, 22, 23, 24, 25, 26, 27, 28, 29, 30, 31, 32, 33, 34, 35, 36, 37, 38, 39, 40, 41, 42, 43, 44, 45, 46, 47, 48, 49, 50, 51, 52, 53, 54, 55, 56, 57, 58, 59, 60, 61, 62, 63, 64, 65, 66, 67, 68, 69, 70, 71, 72, 73, 74, 75, 76, 77, 78, 79, 80, 81, 82, 83, 84, 85, 86, 87, 88, 89, 90, 91, 92, 93, 94, 95, 96, 97, 98, 99]\n",
      "Actual: [0, 1, 2, 3, 4, 5, 6, 7, 8, 9, 10, 11, 12, 13, 14, 15, 16, 17, 18, 19, 20, 21, 22, 23, 24, 25, 26, 27, 28, 29, 30, 31, 32, 33, 34, 35, 36, 37, 38, 39, 40, 41, 42, 43, 44, 45, 46, 47, 48, 49, 50, 51, 52, 53, 54, 55, 56, 57, 58, 59, 60, 61, 62, 63, 64, 65, 66, 67, 68, 69, 70, 71, 72, 73, 74, 75, 76, 77, 78, 79, 80, 81, 82, 83, 84, 85, 86, 87, 88, 89, 90, 91, 92, 93, 94, 95, 96, 97, 98, 99]\n",
      "Pass\n",
      "---------------------------------\n",
      "Inputs: 25\n",
      "Expecting: [0, 1, 2, 3, 4, 5, 6, 7, 8, 9, 10, 11, 12, 13, 14, 15, 16, 17, 18, 19, 20, 21, 22, 23, 24]\n",
      "Actual: [0, 1, 2, 3, 4, 5, 6, 7, 8, 9, 10, 11, 12, 13, 14, 15, 16, 17, 18, 19, 20, 21, 22, 23, 24]\n",
      "Pass\n",
      "---------------------------------\n",
      "Inputs: 50\n",
      "Expecting: [0, 1, 2, 3, 4, 5, 6, 7, 8, 9, 10, 11, 12, 13, 14, 15, 16, 17, 18, 19, 20, 21, 22, 23, 24, 25, 26, 27, 28, 29, 30, 31, 32, 33, 34, 35, 36, 37, 38, 39, 40, 41, 42, 43, 44, 45, 46, 47, 48, 49]\n",
      "Actual: [0, 1, 2, 3, 4, 5, 6, 7, 8, 9, 10, 11, 12, 13, 14, 15, 16, 17, 18, 19, 20, 21, 22, 23, 24, 25, 26, 27, 28, 29, 30, 31, 32, 33, 34, 35, 36, 37, 38, 39, 40, 41, 42, 43, 44, 45, 46, 47, 48, 49]\n",
      "Pass\n",
      "============= PASS ==============\n",
      "7 passed, 0 failed\n"
     ]
    }
   ],
   "execution_count": 9
  },
  {
   "metadata": {},
   "cell_type": "markdown",
   "source": "## Pop Values",
   "id": "310ad1cb721bca42"
  },
  {
   "metadata": {
    "ExecuteTime": {
     "end_time": "2024-12-30T13:30:47.147869Z",
     "start_time": "2024-12-30T13:30:47.136313Z"
    }
   },
   "cell_type": "code",
   "source": [
    "def clear_inventory():\n",
    "    inventory = [\n",
    "        \"Healing Potion\",\n",
    "        \"Iron Bar\",\n",
    "        \"Kite Shield\",\n",
    "        \"Shortsword\",\n",
    "        \"Leather Scraps\",\n",
    "        \"Tattered Cloth\",\n",
    "    ]\n",
    "\n",
    "    print(f\"inventory: {inventory}\")\n",
    "\n",
    "    # don't touch above this line\n",
    "    \n",
    "    while inventory:\n",
    "        item = inventory.pop()\n",
    "\n",
    "        # don't touch below this line\n",
    "        print(f\"Selling: {item}\")\n",
    "        print(f\"inventory: {inventory}\")\n",
    "\n",
    "\n",
    "def test():\n",
    "    clear_inventory()\n",
    "    print(\"=====================================\")\n",
    "\n",
    "\n",
    "def main():\n",
    "    test()\n",
    "\n",
    "\n",
    "main()"
   ],
   "id": "ef0d941f9e4ae5dd",
   "outputs": [
    {
     "name": "stdout",
     "output_type": "stream",
     "text": [
      "inventory: ['Healing Potion', 'Iron Bar', 'Kite Shield', 'Shortsword', 'Leather Scraps', 'Tattered Cloth']\n",
      "Selling: Tattered Cloth\n",
      "inventory: ['Healing Potion', 'Iron Bar', 'Kite Shield', 'Shortsword', 'Leather Scraps']\n",
      "Selling: Leather Scraps\n",
      "inventory: ['Healing Potion', 'Iron Bar', 'Kite Shield', 'Shortsword']\n",
      "Selling: Shortsword\n",
      "inventory: ['Healing Potion', 'Iron Bar', 'Kite Shield']\n",
      "Selling: Kite Shield\n",
      "inventory: ['Healing Potion', 'Iron Bar']\n",
      "Selling: Iron Bar\n",
      "inventory: ['Healing Potion']\n",
      "Selling: Healing Potion\n",
      "inventory: []\n",
      "=====================================\n"
     ]
    }
   ],
   "execution_count": 10
  },
  {
   "metadata": {},
   "cell_type": "markdown",
   "source": "## Counting List Items",
   "id": "6d37cc7b4810f547"
  },
  {
   "metadata": {
    "ExecuteTime": {
     "end_time": "2024-12-30T13:35:24.254574Z",
     "start_time": "2024-12-30T13:35:24.238764Z"
    }
   },
   "cell_type": "code",
   "source": [
    "def get_item_counts(items):\n",
    "    potion_count = 0\n",
    "    bread_count = 0\n",
    "    shortsword_count = 0\n",
    "\n",
    "    # don't touch above this line\n",
    "\n",
    "    for i in range(0, len(items)):\n",
    "        match items[i]:\n",
    "            case \"Bread\":\n",
    "                bread_count += 1\n",
    "            case \"Potion\":\n",
    "                potion_count += 1\n",
    "            case \"Shortsword\":\n",
    "                shortsword_count += 1\n",
    "        #print(items[i])\n",
    "\n",
    "    # don't touch below this line\n",
    "\n",
    "    return potion_count, bread_count, shortsword_count"
   ],
   "id": "51cf14a6fb78d963",
   "outputs": [],
   "execution_count": 11
  },
  {
   "metadata": {
    "ExecuteTime": {
     "end_time": "2024-12-30T13:35:36.060059Z",
     "start_time": "2024-12-30T13:35:36.053373Z"
    }
   },
   "cell_type": "code",
   "source": [
    "run_cases = [\n",
    "    ([\"Bread\", \"Potion\", \"Shortsword\", \"Bread\"], (1, 2, 1)),\n",
    "    ([\"Potion\", \"Potion\", \"Shortsword\", \"Buckler\", \"Iron Mace\"], (2, 0, 1)),\n",
    "]\n",
    "\n",
    "submit_cases = run_cases + [\n",
    "    ([], (0, 0, 0)),\n",
    "    (\n",
    "        [\n",
    "            \"Potion\",\n",
    "            \"Leather Scraps\",\n",
    "            \"Bread\",\n",
    "            \"Iron Ore\",\n",
    "            \"Light Leather\",\n",
    "            \"Bread\",\n",
    "            \"Shortsword\",\n",
    "            \"Longsword\",\n",
    "            \"Ironwood Branch\",\n",
    "            \"Shortsword\",\n",
    "            \"Shortsword\",\n",
    "        ],\n",
    "        (1, 2, 3),\n",
    "    ),\n",
    "    ([\"Bread\", \"Bread\", \"Bread\", \"Bread\"], (0, 4, 0)),\n",
    "    ([\"Shortsword\", \"Shortsword\", \"Shortsword\", \"Shortsword\"], (0, 0, 4)),\n",
    "    ([\"Potion\"], (1, 0, 0)),\n",
    "    ([\"Potion\", \"Bread\", \"Shortsword\"], (1, 1, 1)),\n",
    "]\n",
    "\n",
    "\n",
    "def test(input, expected_output):\n",
    "    print(\"---------------------------------\")\n",
    "    print(f\"Inputs: {input}\")\n",
    "    print(f\"Expecting: {expected_output}\")\n",
    "    result = get_item_counts(input)\n",
    "    print(f\"Actual: {result}\")\n",
    "    if result == expected_output:\n",
    "        print(\"Pass\")\n",
    "        return True\n",
    "    print(\"Fail\")\n",
    "    return False\n",
    "\n",
    "\n",
    "def main():\n",
    "    passed = 0\n",
    "    failed = 0\n",
    "    for test_case in test_cases:\n",
    "        correct = test(*test_case)\n",
    "        if correct:\n",
    "            passed += 1\n",
    "        else:\n",
    "            failed += 1\n",
    "    if failed == 0:\n",
    "        print(\"============= PASS ==============\")\n",
    "    else:\n",
    "        print(\"============= FAIL ==============\")\n",
    "    print(f\"{passed} passed, {failed} failed\")\n",
    "\n",
    "\n",
    "test_cases = submit_cases\n",
    "if \"__RUN__\" in globals():\n",
    "    test_cases = run_cases\n",
    "\n",
    "main()"
   ],
   "id": "76f727b1426cee53",
   "outputs": [
    {
     "name": "stdout",
     "output_type": "stream",
     "text": [
      "---------------------------------\n",
      "Inputs: ['Bread', 'Potion', 'Shortsword', 'Bread']\n",
      "Expecting: (1, 2, 1)\n",
      "Actual: (1, 2, 1)\n",
      "Pass\n",
      "---------------------------------\n",
      "Inputs: ['Potion', 'Potion', 'Shortsword', 'Buckler', 'Iron Mace']\n",
      "Expecting: (2, 0, 1)\n",
      "Actual: (2, 0, 1)\n",
      "Pass\n",
      "---------------------------------\n",
      "Inputs: []\n",
      "Expecting: (0, 0, 0)\n",
      "Actual: (0, 0, 0)\n",
      "Pass\n",
      "---------------------------------\n",
      "Inputs: ['Potion', 'Leather Scraps', 'Bread', 'Iron Ore', 'Light Leather', 'Bread', 'Shortsword', 'Longsword', 'Ironwood Branch', 'Shortsword', 'Shortsword']\n",
      "Expecting: (1, 2, 3)\n",
      "Actual: (1, 2, 3)\n",
      "Pass\n",
      "---------------------------------\n",
      "Inputs: ['Bread', 'Bread', 'Bread', 'Bread']\n",
      "Expecting: (0, 4, 0)\n",
      "Actual: (0, 4, 0)\n",
      "Pass\n",
      "---------------------------------\n",
      "Inputs: ['Shortsword', 'Shortsword', 'Shortsword', 'Shortsword']\n",
      "Expecting: (0, 0, 4)\n",
      "Actual: (0, 0, 4)\n",
      "Pass\n",
      "---------------------------------\n",
      "Inputs: ['Potion']\n",
      "Expecting: (1, 0, 0)\n",
      "Actual: (1, 0, 0)\n",
      "Pass\n",
      "---------------------------------\n",
      "Inputs: ['Potion', 'Bread', 'Shortsword']\n",
      "Expecting: (1, 1, 1)\n",
      "Actual: (1, 1, 1)\n",
      "Pass\n",
      "============= PASS ==============\n",
      "8 passed, 0 failed\n"
     ]
    }
   ],
   "execution_count": 12
  },
  {
   "metadata": {},
   "cell_type": "markdown",
   "source": "## Find a ",
   "id": "bae2cbf176b6962e"
  }
 ],
 "metadata": {
  "kernelspec": {
   "display_name": "Python 3",
   "language": "python",
   "name": "python3"
  },
  "language_info": {
   "codemirror_mode": {
    "name": "ipython",
    "version": 2
   },
   "file_extension": ".py",
   "mimetype": "text/x-python",
   "name": "python",
   "nbconvert_exporter": "python",
   "pygments_lexer": "ipython2",
   "version": "2.7.6"
  }
 },
 "nbformat": 4,
 "nbformat_minor": 5
}
