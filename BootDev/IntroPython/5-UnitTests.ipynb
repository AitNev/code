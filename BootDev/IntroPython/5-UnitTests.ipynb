{
 "cells": [
  {
   "metadata": {},
   "cell_type": "markdown",
   "source": "## Unit Tests",
   "id": "7be50011671670f6"
  },
  {
   "metadata": {
    "ExecuteTime": {
     "end_time": "2024-12-30T11:05:48.495548Z",
     "start_time": "2024-12-30T11:05:48.477241Z"
    }
   },
   "cell_type": "code",
   "source": [
    "def total_xp(level, xp_to_add):\n",
    "    return xp_to_add + level * 100"
   ],
   "id": "9c1a77248211fdaa",
   "outputs": [],
   "execution_count": 2
  },
  {
   "metadata": {
    "ExecuteTime": {
     "end_time": "2024-12-30T11:05:50.145467Z",
     "start_time": "2024-12-30T11:05:50.124423Z"
    }
   },
   "cell_type": "code",
   "source": [
    "run_cases = [\n",
    "    (1, 200, 300),\n",
    "    (2, 50, 250),\n",
    "]\n",
    "\n",
    "submit_cases = run_cases + [\n",
    "    (0, 0, 0),\n",
    "    (0, 200, 200),\n",
    "    (176, 350, 17950),\n",
    "    (250, 100, 25100),\n",
    "]\n",
    "\n",
    "\n",
    "def test(input1, input2, expected_output):\n",
    "    print(\"---------------------------------\")\n",
    "    print(f\"Inputs: {input1}, {input2}\")\n",
    "    print(f\"Expecting: {expected_output}\")\n",
    "    result = total_xp(input1, input2)\n",
    "    print(f\"Actual: {result}\")\n",
    "    if result == expected_output:\n",
    "        print(\"Pass\")\n",
    "        return True\n",
    "    print(\"Fail\")\n",
    "    return False\n",
    "\n",
    "\n",
    "def main():\n",
    "    passed = 0\n",
    "    failed = 0\n",
    "    for test_case in test_cases:\n",
    "        correct = test(*test_case)\n",
    "        if correct:\n",
    "            passed += 1\n",
    "        else:\n",
    "            failed += 1\n",
    "    if failed == 0:\n",
    "        print(\"============= PASS ==============\")\n",
    "    else:\n",
    "        print(\"============= FAIL ==============\")\n",
    "    print(f\"{passed} passed, {failed} failed\")\n",
    "\n",
    "\n",
    "test_cases = submit_cases\n",
    "if \"__RUN__\" in globals():\n",
    "    test_cases = run_cases\n",
    "\n",
    "main()"
   ],
   "id": "14f2cbae4639391",
   "outputs": [
    {
     "name": "stdout",
     "output_type": "stream",
     "text": [
      "---------------------------------\n",
      "Inputs: 1, 200\n",
      "Expecting: 300\n",
      "Actual: 300\n",
      "Pass\n",
      "---------------------------------\n",
      "Inputs: 2, 50\n",
      "Expecting: 250\n",
      "Actual: 250\n",
      "Pass\n",
      "---------------------------------\n",
      "Inputs: 0, 0\n",
      "Expecting: 0\n",
      "Actual: 0\n",
      "Pass\n",
      "---------------------------------\n",
      "Inputs: 0, 200\n",
      "Expecting: 200\n",
      "Actual: 200\n",
      "Pass\n",
      "---------------------------------\n",
      "Inputs: 176, 350\n",
      "Expecting: 17950\n",
      "Actual: 17950\n",
      "Pass\n",
      "---------------------------------\n",
      "Inputs: 250, 100\n",
      "Expecting: 25100\n",
      "Actual: 25100\n",
      "Pass\n",
      "============= PASS ==============\n",
      "6 passed, 0 failed\n"
     ]
    }
   ],
   "execution_count": 3
  },
  {
   "metadata": {},
   "cell_type": "markdown",
   "source": "## Debugging",
   "id": "91236c92d2032c94"
  },
  {
   "metadata": {
    "ExecuteTime": {
     "end_time": "2024-12-30T11:08:10.983858Z",
     "start_time": "2024-12-30T11:08:10.974842Z"
    }
   },
   "cell_type": "code",
   "source": [
    "def take_magic_damage(health, resist, amp, spell_power):\n",
    "    return health - ((spell_power * amp) - resist)"
   ],
   "id": "88dd0512e12c9009",
   "outputs": [],
   "execution_count": 4
  },
  {
   "metadata": {
    "ExecuteTime": {
     "end_time": "2024-12-30T11:08:24.248878Z",
     "start_time": "2024-12-30T11:08:24.230664Z"
    }
   },
   "cell_type": "code",
   "source": [
    "run_cases = [\n",
    "    (100, 5, 2, 20, 65),\n",
    "    (200, 10, 1, 25, 185),\n",
    "]\n",
    "\n",
    "submit_cases = run_cases + [\n",
    "    (0, 0, 0, 0, 0),\n",
    "    (1, 1, 1, 1, 1),\n",
    "    (100, 2, 3, 1, 99),\n",
    "    (2500, 3, 2, 2, 2499),\n",
    "]\n",
    "\n",
    "\n",
    "def test(input1, input2, input3, input4, expected_output):\n",
    "    print(\"---------------------------------\")\n",
    "    print(f\"Inputs: {input1}, {input2}, {input3}, {input4}\")\n",
    "    print(f\"Expecting: {expected_output}\")\n",
    "    result = take_magic_damage(input1, input2, input3, input4)\n",
    "    print(f\"Actual: {result}\")\n",
    "    if result == expected_output:\n",
    "        print(\"Pass\")\n",
    "        return True\n",
    "    print(\"Fail\")\n",
    "    return False\n",
    "\n",
    "\n",
    "def main():\n",
    "    passed = 0\n",
    "    failed = 0\n",
    "    for test_case in test_cases:\n",
    "        correct = test(*test_case)\n",
    "        if correct:\n",
    "            passed += 1\n",
    "        else:\n",
    "            failed += 1\n",
    "    if failed == 0:\n",
    "        print(\"============= PASS ==============\")\n",
    "    else:\n",
    "        print(\"============= FAIL ==============\")\n",
    "    print(f\"{passed} passed, {failed} failed\")\n",
    "\n",
    "\n",
    "test_cases = submit_cases\n",
    "if \"__RUN__\" in globals():\n",
    "    test_cases = run_cases\n",
    "\n",
    "main()"
   ],
   "id": "7df946b619fc3f2c",
   "outputs": [
    {
     "name": "stdout",
     "output_type": "stream",
     "text": [
      "---------------------------------\n",
      "Inputs: 100, 5, 2, 20\n",
      "Expecting: 65\n",
      "Actual: 65\n",
      "Pass\n",
      "---------------------------------\n",
      "Inputs: 200, 10, 1, 25\n",
      "Expecting: 185\n",
      "Actual: 185\n",
      "Pass\n",
      "---------------------------------\n",
      "Inputs: 0, 0, 0, 0\n",
      "Expecting: 0\n",
      "Actual: 0\n",
      "Pass\n",
      "---------------------------------\n",
      "Inputs: 1, 1, 1, 1\n",
      "Expecting: 1\n",
      "Actual: 1\n",
      "Pass\n",
      "---------------------------------\n",
      "Inputs: 100, 2, 3, 1\n",
      "Expecting: 99\n",
      "Actual: 99\n",
      "Pass\n",
      "---------------------------------\n",
      "Inputs: 2500, 3, 2, 2\n",
      "Expecting: 2499\n",
      "Actual: 2499\n",
      "Pass\n",
      "============= PASS ==============\n",
      "6 passed, 0 failed\n"
     ]
    }
   ],
   "execution_count": 5
  },
  {
   "metadata": {},
   "cell_type": "markdown",
   "source": "## Debugging Practice",
   "id": "b66d3571127ee501"
  },
  {
   "metadata": {
    "ExecuteTime": {
     "end_time": "2024-12-30T11:12:29.245752Z",
     "start_time": "2024-12-30T11:12:29.228593Z"
    }
   },
   "cell_type": "code",
   "source": [
    "def unlock_achievement(before_xp, ach_xp, ach_name):\n",
    "    return before_xp + ach_xp, f\"Achievement Unlocked: {ach_name}\""
   ],
   "id": "73db0701d17f3b7a",
   "outputs": [],
   "execution_count": 6
  },
  {
   "metadata": {
    "ExecuteTime": {
     "end_time": "2024-12-30T11:12:41.428328Z",
     "start_time": "2024-12-30T11:12:41.417247Z"
    }
   },
   "cell_type": "code",
   "source": [
    "run_cases = [\n",
    "    (100, 20, \"Speedster\", (120, \"Achievement Unlocked: Speedster\")),\n",
    "    (200, 50, \"Killer\", (250, \"Achievement Unlocked: Killer\")),\n",
    "]\n",
    "\n",
    "submit_cases = run_cases + [\n",
    "    (100, 50, \"Unstoppable\", (150, \"Achievement Unlocked: Unstoppable\")),\n",
    "    (400, 75, \"Gnarly\", (475, \"Achievement Unlocked: Gnarly\")),\n",
    "]\n",
    "\n",
    "\n",
    "def test(input1, input2, input3, expected_output):\n",
    "    print(\"---------------------------------\")\n",
    "    print(f\"Inputs: {input1}, {input2}, {input3}\")\n",
    "    print(f\"Expecting: {expected_output}\")\n",
    "    result = unlock_achievement(input1, input2, input3)\n",
    "    print(f\"Actual: {result}\")\n",
    "    if result == expected_output:\n",
    "        print(\"Pass\")\n",
    "        return True\n",
    "    print(\"Fail\")\n",
    "    return False\n",
    "\n",
    "\n",
    "def main():\n",
    "    passed = 0\n",
    "    failed = 0\n",
    "    for test_case in test_cases:\n",
    "        correct = test(*test_case)\n",
    "        if correct:\n",
    "            passed += 1\n",
    "        else:\n",
    "            failed += 1\n",
    "    if failed == 0:\n",
    "        print(\"============= PASS ==============\")\n",
    "    else:\n",
    "        print(\"============= FAIL ==============\")\n",
    "    print(f\"{passed} passed, {failed} failed\")\n",
    "\n",
    "\n",
    "test_cases = submit_cases\n",
    "if \"__RUN__\" in globals():\n",
    "    test_cases = run_cases\n",
    "\n",
    "main()"
   ],
   "id": "5ac872975325b601",
   "outputs": [
    {
     "name": "stdout",
     "output_type": "stream",
     "text": [
      "---------------------------------\n",
      "Inputs: 100, 20, Speedster\n",
      "Expecting: (120, 'Achievement Unlocked: Speedster')\n",
      "Actual: (120, 'Achievement Unlocked: Speedster')\n",
      "Pass\n",
      "---------------------------------\n",
      "Inputs: 200, 50, Killer\n",
      "Expecting: (250, 'Achievement Unlocked: Killer')\n",
      "Actual: (250, 'Achievement Unlocked: Killer')\n",
      "Pass\n",
      "---------------------------------\n",
      "Inputs: 100, 50, Unstoppable\n",
      "Expecting: (150, 'Achievement Unlocked: Unstoppable')\n",
      "Actual: (150, 'Achievement Unlocked: Unstoppable')\n",
      "Pass\n",
      "---------------------------------\n",
      "Inputs: 400, 75, Gnarly\n",
      "Expecting: (475, 'Achievement Unlocked: Gnarly')\n",
      "Actual: (475, 'Achievement Unlocked: Gnarly')\n",
      "Pass\n",
      "============= PASS ==============\n",
      "4 passed, 0 failed\n"
     ]
    }
   ],
   "execution_count": 7
  },
  {
   "metadata": {},
   "cell_type": "markdown",
   "source": "## Stack Trace",
   "id": "c5018a068ab7d999"
  },
  {
   "metadata": {
    "ExecuteTime": {
     "end_time": "2024-12-30T11:14:33.085291Z",
     "start_time": "2024-12-30T11:14:33.071613Z"
    }
   },
   "cell_type": "code",
   "source": [
    "def create_stats_message(strength, wisdom, dexterity):\n",
    "    total = strength + wisdom + dexterity\n",
    "    msg = f\"You have {strength} strength, {wisdom} wisdom, and {dexterity} dexterity for a total of {total} stats.\"\n",
    "    return msg"
   ],
   "id": "e9a45bc68f0bd3a1",
   "outputs": [],
   "execution_count": 8
  },
  {
   "metadata": {
    "ExecuteTime": {
     "end_time": "2024-12-30T11:14:45.283177Z",
     "start_time": "2024-12-30T11:14:45.270573Z"
    }
   },
   "cell_type": "code",
   "source": [
    "run_cases = [\n",
    "    (1, 2, 3, \"You have 1 strength, 2 wisdom, and 3 dexterity for a total of 6 stats.\"),\n",
    "    (2, 4, 2, \"You have 2 strength, 4 wisdom, and 2 dexterity for a total of 8 stats.\"),\n",
    "]\n",
    "\n",
    "submit_cases = run_cases + [\n",
    "    (\n",
    "        10,\n",
    "        50,\n",
    "        100,\n",
    "        \"You have 10 strength, 50 wisdom, and 100 dexterity for a total of 160 stats.\",\n",
    "    ),\n",
    "    (0, 0, 0, \"You have 0 strength, 0 wisdom, and 0 dexterity for a total of 0 stats.\"),\n",
    "    (1, 1, 1, \"You have 1 strength, 1 wisdom, and 1 dexterity for a total of 3 stats.\"),\n",
    "]\n",
    "\n",
    "\n",
    "def test(input1, input2, input3, expected_output):\n",
    "    print(\"---------------------------------\")\n",
    "    print(f\"Inputs: {input1}, {input2}, {input3}\")\n",
    "    print(f\"Expecting: {expected_output}\")\n",
    "    result = create_stats_message(input1, input2, input3)\n",
    "    print(f\"Actual: {result}\")\n",
    "    if result == expected_output:\n",
    "        print(\"Pass\")\n",
    "        return True\n",
    "    print(\"Fail\")\n",
    "    return False\n",
    "\n",
    "\n",
    "def main():\n",
    "    passed = 0\n",
    "    failed = 0\n",
    "    for test_case in test_cases:\n",
    "        correct = test(*test_case)\n",
    "        if correct:\n",
    "            passed += 1\n",
    "        else:\n",
    "            failed += 1\n",
    "    if failed == 0:\n",
    "        print(\"============= PASS ==============\")\n",
    "    else:\n",
    "        print(\"============= FAIL ==============\")\n",
    "    print(f\"{passed} passed, {failed} failed\")\n",
    "\n",
    "\n",
    "test_cases = submit_cases\n",
    "if \"__RUN__\" in globals():\n",
    "    test_cases = run_cases\n",
    "\n",
    "main()"
   ],
   "id": "af3ac81abbd1c79d",
   "outputs": [
    {
     "name": "stdout",
     "output_type": "stream",
     "text": [
      "---------------------------------\n",
      "Inputs: 1, 2, 3\n",
      "Expecting: You have 1 strength, 2 wisdom, and 3 dexterity for a total of 6 stats.\n",
      "Actual: You have 1 strength, 2 wisdom, and 3 dexterity for a total of 6 stats.\n",
      "Pass\n",
      "---------------------------------\n",
      "Inputs: 2, 4, 2\n",
      "Expecting: You have 2 strength, 4 wisdom, and 2 dexterity for a total of 8 stats.\n",
      "Actual: You have 2 strength, 4 wisdom, and 2 dexterity for a total of 8 stats.\n",
      "Pass\n",
      "---------------------------------\n",
      "Inputs: 10, 50, 100\n",
      "Expecting: You have 10 strength, 50 wisdom, and 100 dexterity for a total of 160 stats.\n",
      "Actual: You have 10 strength, 50 wisdom, and 100 dexterity for a total of 160 stats.\n",
      "Pass\n",
      "---------------------------------\n",
      "Inputs: 0, 0, 0\n",
      "Expecting: You have 0 strength, 0 wisdom, and 0 dexterity for a total of 0 stats.\n",
      "Actual: You have 0 strength, 0 wisdom, and 0 dexterity for a total of 0 stats.\n",
      "Pass\n",
      "---------------------------------\n",
      "Inputs: 1, 1, 1\n",
      "Expecting: You have 1 strength, 1 wisdom, and 1 dexterity for a total of 3 stats.\n",
      "Actual: You have 1 strength, 1 wisdom, and 1 dexterity for a total of 3 stats.\n",
      "Pass\n",
      "============= PASS ==============\n",
      "5 passed, 0 failed\n"
     ]
    }
   ],
   "execution_count": 9
  },
  {
   "metadata": {},
   "cell_type": "markdown",
   "source": "",
   "id": "9bc744bb1463c468"
  }
 ],
 "metadata": {
  "kernelspec": {
   "display_name": "Python 3",
   "language": "python",
   "name": "python3"
  },
  "language_info": {
   "codemirror_mode": {
    "name": "ipython",
    "version": 2
   },
   "file_extension": ".py",
   "mimetype": "text/x-python",
   "name": "python",
   "nbconvert_exporter": "python",
   "pygments_lexer": "ipython2",
   "version": "2.7.6"
  }
 },
 "nbformat": 4,
 "nbformat_minor": 5
}
